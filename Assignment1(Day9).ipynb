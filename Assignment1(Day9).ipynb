{
 "cells": [
  {
   "cell_type": "markdown",
   "metadata": {},
   "source": [
    "# PyLint & Unittest Library"
   ]
  },
  {
   "cell_type": "code",
   "execution_count": 37,
   "metadata": {},
   "outputs": [
    {
     "name": "stdout",
     "output_type": "stream",
     "text": [
      "Overwriting Primenumber.py\n"
     ]
    }
   ],
   "source": [
    "%%writefile Primenumber.py\n",
    "a = 100\n",
    "def prime(num):\n",
    "     \n",
    "        for i in range(2,num):  \n",
    "            if (num % i) == 0:  \n",
    "                break  \n",
    "            else:  \n",
    "                print(num)  \n",
    "prime(a)"
   ]
  },
  {
   "cell_type": "code",
   "execution_count": 38,
   "metadata": {},
   "outputs": [
    {
     "name": "stdout",
     "output_type": "stream",
     "text": [
      "************* Module Primenumber\n",
      "Primenumber.py:3:0: C0303: Trailing whitespace (trailing-whitespace)\n",
      "Primenumber.py:4:30: C0303: Trailing whitespace (trailing-whitespace)\n",
      "Primenumber.py:4:0: W0311: Bad indentation. Found 8 spaces, expected 4 (bad-indentation)\n",
      "Primenumber.py:4:24: C0326: Exactly one space required after comma\n",
      "        for i in range(2,num):  \n",
      "\n",
      "                        ^ (bad-whitespace)\n",
      "Primenumber.py:5:30: C0303: Trailing whitespace (trailing-whitespace)\n",
      "Primenumber.py:5:0: W0311: Bad indentation. Found 12 spaces, expected 8 (bad-indentation)\n",
      "Primenumber.py:6:21: C0303: Trailing whitespace (trailing-whitespace)\n",
      "Primenumber.py:6:0: W0311: Bad indentation. Found 16 spaces, expected 12 (bad-indentation)\n",
      "Primenumber.py:7:17: C0303: Trailing whitespace (trailing-whitespace)\n",
      "Primenumber.py:7:0: W0311: Bad indentation. Found 12 spaces, expected 8 (bad-indentation)\n",
      "Primenumber.py:8:26: C0303: Trailing whitespace (trailing-whitespace)\n",
      "Primenumber.py:8:0: W0311: Bad indentation. Found 16 spaces, expected 12 (bad-indentation)\n",
      "Primenumber.py:1:0: C0103: Module name \"Primenumber\" doesn't conform to snake_case naming style (invalid-name)\n",
      "Primenumber.py:1:0: C0114: Missing module docstring (missing-module-docstring)\n",
      "Primenumber.py:1:0: C0103: Constant name \"a\" doesn't conform to UPPER_CASE naming style (invalid-name)\n",
      "Primenumber.py:2:0: C0116: Missing function or method docstring (missing-function-docstring)\n",
      "Primenumber.py:5:12: R1723: Unnecessary \"else\" after \"break\" (no-else-break)\n",
      "\n",
      "-------------------------------------\n",
      "\n",
      "Your code has been rated at -14.29/10\n",
      "\n",
      "\n",
      "\n"
     ]
    }
   ],
   "source": [
    "! pylint \"Primenumber.py\""
   ]
  },
  {
   "cell_type": "code",
   "execution_count": null,
   "metadata": {},
   "outputs": [],
   "source": []
  },
  {
   "cell_type": "code",
   "execution_count": null,
   "metadata": {},
   "outputs": [],
   "source": []
  },
  {
   "cell_type": "code",
   "execution_count": null,
   "metadata": {},
   "outputs": [],
   "source": []
  }
 ],
 "metadata": {
  "kernelspec": {
   "display_name": "Python 3",
   "language": "python",
   "name": "python3"
  },
  "language_info": {
   "codemirror_mode": {
    "name": "ipython",
    "version": 3
   },
   "file_extension": ".py",
   "mimetype": "text/x-python",
   "name": "python",
   "nbconvert_exporter": "python",
   "pygments_lexer": "ipython3",
   "version": "3.8.3"
  }
 },
 "nbformat": 4,
 "nbformat_minor": 4
}
