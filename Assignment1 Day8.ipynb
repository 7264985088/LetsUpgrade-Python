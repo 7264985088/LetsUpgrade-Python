{
 "cells": [
  {
   "cell_type": "markdown",
   "metadata": {},
   "source": [
    "# Decorators(find number is odd or even)"
   ]
  },
  {
   "cell_type": "code",
   "execution_count": 4,
   "metadata": {},
   "outputs": [],
   "source": [
    "def getInput(calculate):\n",
    "    def wrap_function():\n",
    "        print(\"Hey people enter number = \")\n",
    "        a = int(input(\"Enter your  Number - \"))\n",
    "        \n",
    "        calculate(a)   \n",
    "    return wrap_function  \n",
    "\n",
    "@getInput\n",
    "def evenodd(num1):\n",
    "    if num1%2 == 0:\n",
    "        \n",
    "         print(\"number is even\")\n",
    "            \n",
    "    else:\n",
    "        print(\"number is odd\")\n",
    "    \n",
    "\n",
    "         "
   ]
  },
  {
   "cell_type": "code",
   "execution_count": 3,
   "metadata": {},
   "outputs": [
    {
     "name": "stdout",
     "output_type": "stream",
     "text": [
      "Hey people enter number = \n",
      "Enter your  Number - 100\n",
      "number is even\n"
     ]
    }
   ],
   "source": [
    "evenodd()"
   ]
  },
  {
   "cell_type": "code",
   "execution_count": null,
   "metadata": {},
   "outputs": [],
   "source": []
  },
  {
   "cell_type": "code",
   "execution_count": null,
   "metadata": {},
   "outputs": [],
   "source": []
  },
  {
   "cell_type": "code",
   "execution_count": null,
   "metadata": {},
   "outputs": [],
   "source": []
  }
 ],
 "metadata": {
  "kernelspec": {
   "display_name": "Python 3",
   "language": "python",
   "name": "python3"
  },
  "language_info": {
   "codemirror_mode": {
    "name": "ipython",
    "version": 3
   },
   "file_extension": ".py",
   "mimetype": "text/x-python",
   "name": "python",
   "nbconvert_exporter": "python",
   "pygments_lexer": "ipython3",
   "version": "3.8.3"
  }
 },
 "nbformat": 4,
 "nbformat_minor": 4
}
